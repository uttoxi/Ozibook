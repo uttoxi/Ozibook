{
 "cells": [
  {
   "cell_type": "code",
   "execution_count": 1,
   "metadata": {},
   "outputs": [
    {
     "data": {
      "text/html": [
       "        <script type=\"text/javascript\">\n",
       "        window.PlotlyConfig = {MathJaxConfig: 'local'};\n",
       "        if (window.MathJax && window.MathJax.Hub && window.MathJax.Hub.Config) {window.MathJax.Hub.Config({SVG: {font: \"STIX-Web\"}});}\n",
       "        if (typeof require !== 'undefined') {\n",
       "        require.undef(\"plotly\");\n",
       "        requirejs.config({\n",
       "            paths: {\n",
       "                'plotly': ['https://cdn.plot.ly/plotly-2.16.1.min']\n",
       "            }\n",
       "        });\n",
       "        require(['plotly'], function(Plotly) {\n",
       "            window._Plotly = Plotly;\n",
       "        });\n",
       "        }\n",
       "        </script>\n",
       "        "
      ]
     },
     "metadata": {},
     "output_type": "display_data"
    }
   ],
   "source": [
    "import pandas as pd\n",
    "import plotly         \n",
    "import plotly.express as px\n",
    "import dash\n",
    "from dash import Dash, dcc, html\n",
    "import dash_bootstrap_components as dbc  \n",
    "import plotly.io as pio\n",
    "import statsmodels\n",
    "import locale\n",
    "locale.setlocale(locale.LC_MONETARY, 'en_IN')\n",
    "from dash.dependencies import Input,Output,State\n",
    "import numpy as np\n",
    "import matplotlib as mpl\n",
    "import matplotlib.pyplot as plt\n",
    "import calendar\n",
    "from plotly.subplots import make_subplots\n",
    "import plotly.figure_factory as ff\n",
    "import plotly.offline as offline\n",
    "import plotly.graph_objs as go\n",
    "offline.init_notebook_mode(connected = True)"
   ]
  },
  {
   "cell_type": "code",
   "execution_count": 2,
   "metadata": {},
   "outputs": [],
   "source": [
    "app=dash.Dash(__name__,external_stylesheets=[dbc.themes.BOOTSTRAP])"
   ]
  },
  {
   "cell_type": "code",
   "execution_count": 3,
   "metadata": {},
   "outputs": [],
   "source": [
    "df1=pd.read_excel(r\"C:\\Users\\utkar\\Dropbox\\My PC (LAPTOP-INV699O5)\\Downloads\\salary dept wise sheet.xlsx\")\n",
    "df_dev= pd.read_excel(r\"C:\\Users\\utkar\\Dropbox\\My PC (LAPTOP-INV699O5)\\Downloads\\Developers (1).xlsx\")\n",
    "df_exec= pd.read_excel(r\"C:\\Users\\utkar\\Dropbox\\My PC (LAPTOP-INV699O5)\\Downloads\\Executives (1).xlsx\")\n",
    "df_ba = pd.read_excel(r\"C:\\Users\\utkar\\Dropbox\\My PC (LAPTOP-INV699O5)\\Downloads\\BA.xlsx\")\n",
    "df_crea = pd.read_excel(r\"C:\\Users\\utkar\\Dropbox\\My PC (LAPTOP-INV699O5)\\Downloads\\Creative.xlsx\")\n",
    "df_fin = pd.read_excel(r\"C:\\Users\\utkar\\Dropbox\\My PC (LAPTOP-INV699O5)\\Downloads\\Finance.xlsx\")\n",
    "df_hr = pd.read_excel(r\"C:\\Users\\utkar\\Dropbox\\My PC (LAPTOP-INV699O5)\\Downloads\\HR.xlsx\")\n",
    "df_oper = pd.read_excel(r\"C:\\Users\\utkar\\Dropbox\\My PC (LAPTOP-INV699O5)\\Downloads\\Operations.xlsx\")\n",
    "df_sls = pd.read_excel(r\"C:\\Users\\utkar\\Dropbox\\My PC (LAPTOP-INV699O5)\\Downloads\\Sales.xlsx\")\n",
    "df_combined = pd.read_excel(r\"C:\\Users\\utkar\\Dropbox\\My PC (LAPTOP-INV699O5)\\Downloads\\CombinedData.xlsx\")\n",
    "df_sales= pd.read_excel(r\"C:\\Users\\utkar\\Dropbox\\My PC (LAPTOP-INV699O5)\\Downloads\\Sales and Operations - Consolidated.xlsx\")\n",
    "df_ui=pd.read_excel(r\"C:\\Users\\utkar\\Dropbox\\My PC (LAPTOP-INV699O5)\\Downloads\\Sales and Operations - Consolidated.xlsx\")\n",
    "df_dep_sal=pd.read_excel(r\"C:\\Users\\utkar\\Dropbox\\My PC (LAPTOP-INV699O5)\\Downloads\\ozibook_dept_wise_salary.xlsx\")"
   ]
  },
  {
   "cell_type": "code",
   "execution_count": 4,
   "metadata": {},
   "outputs": [],
   "source": [
    "dep_list = df1[\"Position\"].tolist()\n",
    "\n",
    "target = ['Head of Engineering','QA tester','Fresher-TL','Fresher','Jr Finance associate','Fresher TL(BA)','Fresher TL(RA)','Fresher TL(DA)','Fresher TL(UI/UX)',]\n",
    "pos = [0,3,4,5,9,11,13,15,19]\n",
    "for x,y in zip(pos,target):\n",
    "        dep_list[x] = y\n",
    "dep_list\n",
    "exp_list= ['Salary/month/employee','Salary/month','Salary/year/employee','Salary/year'] \n"
   ]
  },
  {
   "cell_type": "code",
   "execution_count": 5,
   "metadata": {},
   "outputs": [
    {
     "data": {
      "application/vnd.plotly.v1+json": {
       "config": {
        "plotlyServerURL": "https://plot.ly"
       },
       "data": [
        {
         "mode": "text",
         "text": [
          "No. of Departments",
          "Number of employees",
          "Number of Positions",
          "Monthly expense",
          "Yearly expense"
         ],
         "textposition": "bottom center",
         "type": "scatter",
         "x": [
          0.12,
          1,
          2,
          3.2,
          4.5,
          5.5
         ],
         "y": [
          1.7,
          1.7,
          1.7,
          1.7,
          1.7,
          1.7
         ]
        },
        {
         "mode": "text",
         "text": [
          "<span style='font-size:24px'><b>33</b></span>",
          "<span style='font-size:24px'><b>108</b></span>",
          "<span style='font-size:24px'><b>33</b></span>",
          "<span style='font-size:24px'><b>₹13,96,250</b></span></b></span>",
          "<span style='font-size:24px'><b>₹1,67,55,000</b></span>"
         ],
         "textposition": "bottom center",
         "type": "scatter",
         "x": [
          0,
          1.1,
          2,
          3.2,
          4.5,
          5.5
         ],
         "y": [
          1.1,
          1.1,
          1.1,
          1.1,
          1.1,
          1.1
         ]
        },
        {
         "mode": "text",
         "textposition": "bottom center",
         "type": "scatter",
         "x": [
          0
         ],
         "y": [
          -0.2
         ]
        }
       ],
       "layout": {
        "font": {
         "color": "#F58600",
         "size": 15
        },
        "height": 300,
        "margin": {
         "b": 0,
         "l": 70,
         "r": 70,
         "t": 90
        },
        "paper_bgcolor": "#2F321E",
        "plot_bgcolor": "#2F321E",
        "shapes": [
         {
          "line": {
           "color": "orange",
           "width": 5
          },
          "type": "line",
          "x0": 0,
          "x1": 1,
          "xref": "x domain",
          "y0": 2.2,
          "y1": 2.2,
          "yref": "y"
         },
         {
          "line": {
           "color": "orange",
           "width": 3
          },
          "type": "line",
          "x0": 0,
          "x1": 1,
          "xref": "x domain",
          "y0": 0.3,
          "y1": 0.3,
          "yref": "y"
         }
        ],
        "showlegend": false,
        "template": {
         "data": {
          "bar": [
           {
            "error_x": {
             "color": "#2a3f5f"
            },
            "error_y": {
             "color": "#2a3f5f"
            },
            "marker": {
             "line": {
              "color": "#E5ECF6",
              "width": 0.5
             },
             "pattern": {
              "fillmode": "overlay",
              "size": 10,
              "solidity": 0.2
             }
            },
            "type": "bar"
           }
          ],
          "barpolar": [
           {
            "marker": {
             "line": {
              "color": "#E5ECF6",
              "width": 0.5
             },
             "pattern": {
              "fillmode": "overlay",
              "size": 10,
              "solidity": 0.2
             }
            },
            "type": "barpolar"
           }
          ],
          "carpet": [
           {
            "aaxis": {
             "endlinecolor": "#2a3f5f",
             "gridcolor": "white",
             "linecolor": "white",
             "minorgridcolor": "white",
             "startlinecolor": "#2a3f5f"
            },
            "baxis": {
             "endlinecolor": "#2a3f5f",
             "gridcolor": "white",
             "linecolor": "white",
             "minorgridcolor": "white",
             "startlinecolor": "#2a3f5f"
            },
            "type": "carpet"
           }
          ],
          "choropleth": [
           {
            "colorbar": {
             "outlinewidth": 0,
             "ticks": ""
            },
            "type": "choropleth"
           }
          ],
          "contour": [
           {
            "colorbar": {
             "outlinewidth": 0,
             "ticks": ""
            },
            "colorscale": [
             [
              0,
              "#0d0887"
             ],
             [
              0.1111111111111111,
              "#46039f"
             ],
             [
              0.2222222222222222,
              "#7201a8"
             ],
             [
              0.3333333333333333,
              "#9c179e"
             ],
             [
              0.4444444444444444,
              "#bd3786"
             ],
             [
              0.5555555555555556,
              "#d8576b"
             ],
             [
              0.6666666666666666,
              "#ed7953"
             ],
             [
              0.7777777777777778,
              "#fb9f3a"
             ],
             [
              0.8888888888888888,
              "#fdca26"
             ],
             [
              1,
              "#f0f921"
             ]
            ],
            "type": "contour"
           }
          ],
          "contourcarpet": [
           {
            "colorbar": {
             "outlinewidth": 0,
             "ticks": ""
            },
            "type": "contourcarpet"
           }
          ],
          "heatmap": [
           {
            "colorbar": {
             "outlinewidth": 0,
             "ticks": ""
            },
            "colorscale": [
             [
              0,
              "#0d0887"
             ],
             [
              0.1111111111111111,
              "#46039f"
             ],
             [
              0.2222222222222222,
              "#7201a8"
             ],
             [
              0.3333333333333333,
              "#9c179e"
             ],
             [
              0.4444444444444444,
              "#bd3786"
             ],
             [
              0.5555555555555556,
              "#d8576b"
             ],
             [
              0.6666666666666666,
              "#ed7953"
             ],
             [
              0.7777777777777778,
              "#fb9f3a"
             ],
             [
              0.8888888888888888,
              "#fdca26"
             ],
             [
              1,
              "#f0f921"
             ]
            ],
            "type": "heatmap"
           }
          ],
          "heatmapgl": [
           {
            "colorbar": {
             "outlinewidth": 0,
             "ticks": ""
            },
            "colorscale": [
             [
              0,
              "#0d0887"
             ],
             [
              0.1111111111111111,
              "#46039f"
             ],
             [
              0.2222222222222222,
              "#7201a8"
             ],
             [
              0.3333333333333333,
              "#9c179e"
             ],
             [
              0.4444444444444444,
              "#bd3786"
             ],
             [
              0.5555555555555556,
              "#d8576b"
             ],
             [
              0.6666666666666666,
              "#ed7953"
             ],
             [
              0.7777777777777778,
              "#fb9f3a"
             ],
             [
              0.8888888888888888,
              "#fdca26"
             ],
             [
              1,
              "#f0f921"
             ]
            ],
            "type": "heatmapgl"
           }
          ],
          "histogram": [
           {
            "marker": {
             "pattern": {
              "fillmode": "overlay",
              "size": 10,
              "solidity": 0.2
             }
            },
            "type": "histogram"
           }
          ],
          "histogram2d": [
           {
            "colorbar": {
             "outlinewidth": 0,
             "ticks": ""
            },
            "colorscale": [
             [
              0,
              "#0d0887"
             ],
             [
              0.1111111111111111,
              "#46039f"
             ],
             [
              0.2222222222222222,
              "#7201a8"
             ],
             [
              0.3333333333333333,
              "#9c179e"
             ],
             [
              0.4444444444444444,
              "#bd3786"
             ],
             [
              0.5555555555555556,
              "#d8576b"
             ],
             [
              0.6666666666666666,
              "#ed7953"
             ],
             [
              0.7777777777777778,
              "#fb9f3a"
             ],
             [
              0.8888888888888888,
              "#fdca26"
             ],
             [
              1,
              "#f0f921"
             ]
            ],
            "type": "histogram2d"
           }
          ],
          "histogram2dcontour": [
           {
            "colorbar": {
             "outlinewidth": 0,
             "ticks": ""
            },
            "colorscale": [
             [
              0,
              "#0d0887"
             ],
             [
              0.1111111111111111,
              "#46039f"
             ],
             [
              0.2222222222222222,
              "#7201a8"
             ],
             [
              0.3333333333333333,
              "#9c179e"
             ],
             [
              0.4444444444444444,
              "#bd3786"
             ],
             [
              0.5555555555555556,
              "#d8576b"
             ],
             [
              0.6666666666666666,
              "#ed7953"
             ],
             [
              0.7777777777777778,
              "#fb9f3a"
             ],
             [
              0.8888888888888888,
              "#fdca26"
             ],
             [
              1,
              "#f0f921"
             ]
            ],
            "type": "histogram2dcontour"
           }
          ],
          "mesh3d": [
           {
            "colorbar": {
             "outlinewidth": 0,
             "ticks": ""
            },
            "type": "mesh3d"
           }
          ],
          "parcoords": [
           {
            "line": {
             "colorbar": {
              "outlinewidth": 0,
              "ticks": ""
             }
            },
            "type": "parcoords"
           }
          ],
          "pie": [
           {
            "automargin": true,
            "type": "pie"
           }
          ],
          "scatter": [
           {
            "fillpattern": {
             "fillmode": "overlay",
             "size": 10,
             "solidity": 0.2
            },
            "type": "scatter"
           }
          ],
          "scatter3d": [
           {
            "line": {
             "colorbar": {
              "outlinewidth": 0,
              "ticks": ""
             }
            },
            "marker": {
             "colorbar": {
              "outlinewidth": 0,
              "ticks": ""
             }
            },
            "type": "scatter3d"
           }
          ],
          "scattercarpet": [
           {
            "marker": {
             "colorbar": {
              "outlinewidth": 0,
              "ticks": ""
             }
            },
            "type": "scattercarpet"
           }
          ],
          "scattergeo": [
           {
            "marker": {
             "colorbar": {
              "outlinewidth": 0,
              "ticks": ""
             }
            },
            "type": "scattergeo"
           }
          ],
          "scattergl": [
           {
            "marker": {
             "colorbar": {
              "outlinewidth": 0,
              "ticks": ""
             }
            },
            "type": "scattergl"
           }
          ],
          "scattermapbox": [
           {
            "marker": {
             "colorbar": {
              "outlinewidth": 0,
              "ticks": ""
             }
            },
            "type": "scattermapbox"
           }
          ],
          "scatterpolar": [
           {
            "marker": {
             "colorbar": {
              "outlinewidth": 0,
              "ticks": ""
             }
            },
            "type": "scatterpolar"
           }
          ],
          "scatterpolargl": [
           {
            "marker": {
             "colorbar": {
              "outlinewidth": 0,
              "ticks": ""
             }
            },
            "type": "scatterpolargl"
           }
          ],
          "scatterternary": [
           {
            "marker": {
             "colorbar": {
              "outlinewidth": 0,
              "ticks": ""
             }
            },
            "type": "scatterternary"
           }
          ],
          "surface": [
           {
            "colorbar": {
             "outlinewidth": 0,
             "ticks": ""
            },
            "colorscale": [
             [
              0,
              "#0d0887"
             ],
             [
              0.1111111111111111,
              "#46039f"
             ],
             [
              0.2222222222222222,
              "#7201a8"
             ],
             [
              0.3333333333333333,
              "#9c179e"
             ],
             [
              0.4444444444444444,
              "#bd3786"
             ],
             [
              0.5555555555555556,
              "#d8576b"
             ],
             [
              0.6666666666666666,
              "#ed7953"
             ],
             [
              0.7777777777777778,
              "#fb9f3a"
             ],
             [
              0.8888888888888888,
              "#fdca26"
             ],
             [
              1,
              "#f0f921"
             ]
            ],
            "type": "surface"
           }
          ],
          "table": [
           {
            "cells": {
             "fill": {
              "color": "#EBF0F8"
             },
             "line": {
              "color": "white"
             }
            },
            "header": {
             "fill": {
              "color": "#C8D4E3"
             },
             "line": {
              "color": "white"
             }
            },
            "type": "table"
           }
          ]
         },
         "layout": {
          "annotationdefaults": {
           "arrowcolor": "#2a3f5f",
           "arrowhead": 0,
           "arrowwidth": 1
          },
          "autotypenumbers": "strict",
          "coloraxis": {
           "colorbar": {
            "outlinewidth": 0,
            "ticks": ""
           }
          },
          "colorscale": {
           "diverging": [
            [
             0,
             "#8e0152"
            ],
            [
             0.1,
             "#c51b7d"
            ],
            [
             0.2,
             "#de77ae"
            ],
            [
             0.3,
             "#f1b6da"
            ],
            [
             0.4,
             "#fde0ef"
            ],
            [
             0.5,
             "#f7f7f7"
            ],
            [
             0.6,
             "#e6f5d0"
            ],
            [
             0.7,
             "#b8e186"
            ],
            [
             0.8,
             "#7fbc41"
            ],
            [
             0.9,
             "#4d9221"
            ],
            [
             1,
             "#276419"
            ]
           ],
           "sequential": [
            [
             0,
             "#0d0887"
            ],
            [
             0.1111111111111111,
             "#46039f"
            ],
            [
             0.2222222222222222,
             "#7201a8"
            ],
            [
             0.3333333333333333,
             "#9c179e"
            ],
            [
             0.4444444444444444,
             "#bd3786"
            ],
            [
             0.5555555555555556,
             "#d8576b"
            ],
            [
             0.6666666666666666,
             "#ed7953"
            ],
            [
             0.7777777777777778,
             "#fb9f3a"
            ],
            [
             0.8888888888888888,
             "#fdca26"
            ],
            [
             1,
             "#f0f921"
            ]
           ],
           "sequentialminus": [
            [
             0,
             "#0d0887"
            ],
            [
             0.1111111111111111,
             "#46039f"
            ],
            [
             0.2222222222222222,
             "#7201a8"
            ],
            [
             0.3333333333333333,
             "#9c179e"
            ],
            [
             0.4444444444444444,
             "#bd3786"
            ],
            [
             0.5555555555555556,
             "#d8576b"
            ],
            [
             0.6666666666666666,
             "#ed7953"
            ],
            [
             0.7777777777777778,
             "#fb9f3a"
            ],
            [
             0.8888888888888888,
             "#fdca26"
            ],
            [
             1,
             "#f0f921"
            ]
           ]
          },
          "colorway": [
           "#636efa",
           "#EF553B",
           "#00cc96",
           "#ab63fa",
           "#FFA15A",
           "#19d3f3",
           "#FF6692",
           "#B6E880",
           "#FF97FF",
           "#FECB52"
          ],
          "font": {
           "color": "#2a3f5f"
          },
          "geo": {
           "bgcolor": "white",
           "lakecolor": "white",
           "landcolor": "#E5ECF6",
           "showlakes": true,
           "showland": true,
           "subunitcolor": "white"
          },
          "hoverlabel": {
           "align": "left"
          },
          "hovermode": "closest",
          "mapbox": {
           "style": "light"
          },
          "paper_bgcolor": "white",
          "plot_bgcolor": "#E5ECF6",
          "polar": {
           "angularaxis": {
            "gridcolor": "white",
            "linecolor": "white",
            "ticks": ""
           },
           "bgcolor": "#E5ECF6",
           "radialaxis": {
            "gridcolor": "white",
            "linecolor": "white",
            "ticks": ""
           }
          },
          "scene": {
           "xaxis": {
            "backgroundcolor": "#E5ECF6",
            "gridcolor": "white",
            "gridwidth": 2,
            "linecolor": "white",
            "showbackground": true,
            "ticks": "",
            "zerolinecolor": "white"
           },
           "yaxis": {
            "backgroundcolor": "#E5ECF6",
            "gridcolor": "white",
            "gridwidth": 2,
            "linecolor": "white",
            "showbackground": true,
            "ticks": "",
            "zerolinecolor": "white"
           },
           "zaxis": {
            "backgroundcolor": "#E5ECF6",
            "gridcolor": "white",
            "gridwidth": 2,
            "linecolor": "white",
            "showbackground": true,
            "ticks": "",
            "zerolinecolor": "white"
           }
          },
          "shapedefaults": {
           "line": {
            "color": "#2a3f5f"
           }
          },
          "ternary": {
           "aaxis": {
            "gridcolor": "white",
            "linecolor": "white",
            "ticks": ""
           },
           "baxis": {
            "gridcolor": "white",
            "linecolor": "white",
            "ticks": ""
           },
           "bgcolor": "#E5ECF6",
           "caxis": {
            "gridcolor": "white",
            "linecolor": "white",
            "ticks": ""
           }
          },
          "title": {
           "x": 0.05
          },
          "xaxis": {
           "automargin": true,
           "gridcolor": "white",
           "linecolor": "white",
           "ticks": "",
           "title": {
            "standoff": 15
           },
           "zerolinecolor": "white",
           "zerolinewidth": 2
          },
          "yaxis": {
           "automargin": true,
           "gridcolor": "white",
           "linecolor": "white",
           "ticks": "",
           "title": {
            "standoff": 15
           },
           "zerolinecolor": "white",
           "zerolinewidth": 2
          }
         }
        },
        "title": {
         "font": {
          "color": "#F58600",
          "size": 28
         },
         "text": "OziBook Finance App",
         "x": 0.5,
         "y": 0.9
        },
        "width": 1300,
        "xaxis": {
         "range": [
          -0.3,
          5.6
         ],
         "visible": false
        },
        "yaxis": {
         "range": [
          -1.2,
          2.2
         ],
         "visible": false
        }
       }
      },
      "text/html": [
       "<div>                            <div id=\"131db716-deae-4a89-92de-5d4be2233e8b\" class=\"plotly-graph-div\" style=\"height:300px; width:1300px;\"></div>            <script type=\"text/javascript\">                require([\"plotly\"], function(Plotly) {                    window.PLOTLYENV=window.PLOTLYENV || {};                                    if (document.getElementById(\"131db716-deae-4a89-92de-5d4be2233e8b\")) {                    Plotly.newPlot(                        \"131db716-deae-4a89-92de-5d4be2233e8b\",                        [{\"mode\":\"text\",\"text\":[\"No. of Departments\",\"Number of employees\",\"Number of Positions\",\"Monthly expense\",\"Yearly expense\"],\"textposition\":\"bottom center\",\"x\":[0.12,1,2,3.2,4.5,5.5],\"y\":[1.7,1.7,1.7,1.7,1.7,1.7],\"type\":\"scatter\"},{\"mode\":\"text\",\"text\":[\"<span style='font-size:24px'><b>33</b></span>\",\"<span style='font-size:24px'><b>108</b></span>\",\"<span style='font-size:24px'><b>33</b></span>\",\"<span style='font-size:24px'><b>\\u20b913,96,250</b></span></b></span>\",\"<span style='font-size:24px'><b>\\u20b91,67,55,000</b></span>\"],\"textposition\":\"bottom center\",\"x\":[0,1.1,2,3.2,4.5,5.5],\"y\":[1.1,1.1,1.1,1.1,1.1,1.1],\"type\":\"scatter\"},{\"mode\":\"text\",\"textposition\":\"bottom center\",\"x\":[0],\"y\":[-0.2],\"type\":\"scatter\"}],                        {\"template\":{\"data\":{\"histogram2dcontour\":[{\"type\":\"histogram2dcontour\",\"colorbar\":{\"outlinewidth\":0,\"ticks\":\"\"},\"colorscale\":[[0.0,\"#0d0887\"],[0.1111111111111111,\"#46039f\"],[0.2222222222222222,\"#7201a8\"],[0.3333333333333333,\"#9c179e\"],[0.4444444444444444,\"#bd3786\"],[0.5555555555555556,\"#d8576b\"],[0.6666666666666666,\"#ed7953\"],[0.7777777777777778,\"#fb9f3a\"],[0.8888888888888888,\"#fdca26\"],[1.0,\"#f0f921\"]]}],\"choropleth\":[{\"type\":\"choropleth\",\"colorbar\":{\"outlinewidth\":0,\"ticks\":\"\"}}],\"histogram2d\":[{\"type\":\"histogram2d\",\"colorbar\":{\"outlinewidth\":0,\"ticks\":\"\"},\"colorscale\":[[0.0,\"#0d0887\"],[0.1111111111111111,\"#46039f\"],[0.2222222222222222,\"#7201a8\"],[0.3333333333333333,\"#9c179e\"],[0.4444444444444444,\"#bd3786\"],[0.5555555555555556,\"#d8576b\"],[0.6666666666666666,\"#ed7953\"],[0.7777777777777778,\"#fb9f3a\"],[0.8888888888888888,\"#fdca26\"],[1.0,\"#f0f921\"]]}],\"heatmap\":[{\"type\":\"heatmap\",\"colorbar\":{\"outlinewidth\":0,\"ticks\":\"\"},\"colorscale\":[[0.0,\"#0d0887\"],[0.1111111111111111,\"#46039f\"],[0.2222222222222222,\"#7201a8\"],[0.3333333333333333,\"#9c179e\"],[0.4444444444444444,\"#bd3786\"],[0.5555555555555556,\"#d8576b\"],[0.6666666666666666,\"#ed7953\"],[0.7777777777777778,\"#fb9f3a\"],[0.8888888888888888,\"#fdca26\"],[1.0,\"#f0f921\"]]}],\"heatmapgl\":[{\"type\":\"heatmapgl\",\"colorbar\":{\"outlinewidth\":0,\"ticks\":\"\"},\"colorscale\":[[0.0,\"#0d0887\"],[0.1111111111111111,\"#46039f\"],[0.2222222222222222,\"#7201a8\"],[0.3333333333333333,\"#9c179e\"],[0.4444444444444444,\"#bd3786\"],[0.5555555555555556,\"#d8576b\"],[0.6666666666666666,\"#ed7953\"],[0.7777777777777778,\"#fb9f3a\"],[0.8888888888888888,\"#fdca26\"],[1.0,\"#f0f921\"]]}],\"contourcarpet\":[{\"type\":\"contourcarpet\",\"colorbar\":{\"outlinewidth\":0,\"ticks\":\"\"}}],\"contour\":[{\"type\":\"contour\",\"colorbar\":{\"outlinewidth\":0,\"ticks\":\"\"},\"colorscale\":[[0.0,\"#0d0887\"],[0.1111111111111111,\"#46039f\"],[0.2222222222222222,\"#7201a8\"],[0.3333333333333333,\"#9c179e\"],[0.4444444444444444,\"#bd3786\"],[0.5555555555555556,\"#d8576b\"],[0.6666666666666666,\"#ed7953\"],[0.7777777777777778,\"#fb9f3a\"],[0.8888888888888888,\"#fdca26\"],[1.0,\"#f0f921\"]]}],\"surface\":[{\"type\":\"surface\",\"colorbar\":{\"outlinewidth\":0,\"ticks\":\"\"},\"colorscale\":[[0.0,\"#0d0887\"],[0.1111111111111111,\"#46039f\"],[0.2222222222222222,\"#7201a8\"],[0.3333333333333333,\"#9c179e\"],[0.4444444444444444,\"#bd3786\"],[0.5555555555555556,\"#d8576b\"],[0.6666666666666666,\"#ed7953\"],[0.7777777777777778,\"#fb9f3a\"],[0.8888888888888888,\"#fdca26\"],[1.0,\"#f0f921\"]]}],\"mesh3d\":[{\"type\":\"mesh3d\",\"colorbar\":{\"outlinewidth\":0,\"ticks\":\"\"}}],\"scatter\":[{\"fillpattern\":{\"fillmode\":\"overlay\",\"size\":10,\"solidity\":0.2},\"type\":\"scatter\"}],\"parcoords\":[{\"type\":\"parcoords\",\"line\":{\"colorbar\":{\"outlinewidth\":0,\"ticks\":\"\"}}}],\"scatterpolargl\":[{\"type\":\"scatterpolargl\",\"marker\":{\"colorbar\":{\"outlinewidth\":0,\"ticks\":\"\"}}}],\"bar\":[{\"error_x\":{\"color\":\"#2a3f5f\"},\"error_y\":{\"color\":\"#2a3f5f\"},\"marker\":{\"line\":{\"color\":\"#E5ECF6\",\"width\":0.5},\"pattern\":{\"fillmode\":\"overlay\",\"size\":10,\"solidity\":0.2}},\"type\":\"bar\"}],\"scattergeo\":[{\"type\":\"scattergeo\",\"marker\":{\"colorbar\":{\"outlinewidth\":0,\"ticks\":\"\"}}}],\"scatterpolar\":[{\"type\":\"scatterpolar\",\"marker\":{\"colorbar\":{\"outlinewidth\":0,\"ticks\":\"\"}}}],\"histogram\":[{\"marker\":{\"pattern\":{\"fillmode\":\"overlay\",\"size\":10,\"solidity\":0.2}},\"type\":\"histogram\"}],\"scattergl\":[{\"type\":\"scattergl\",\"marker\":{\"colorbar\":{\"outlinewidth\":0,\"ticks\":\"\"}}}],\"scatter3d\":[{\"type\":\"scatter3d\",\"line\":{\"colorbar\":{\"outlinewidth\":0,\"ticks\":\"\"}},\"marker\":{\"colorbar\":{\"outlinewidth\":0,\"ticks\":\"\"}}}],\"scattermapbox\":[{\"type\":\"scattermapbox\",\"marker\":{\"colorbar\":{\"outlinewidth\":0,\"ticks\":\"\"}}}],\"scatterternary\":[{\"type\":\"scatterternary\",\"marker\":{\"colorbar\":{\"outlinewidth\":0,\"ticks\":\"\"}}}],\"scattercarpet\":[{\"type\":\"scattercarpet\",\"marker\":{\"colorbar\":{\"outlinewidth\":0,\"ticks\":\"\"}}}],\"carpet\":[{\"aaxis\":{\"endlinecolor\":\"#2a3f5f\",\"gridcolor\":\"white\",\"linecolor\":\"white\",\"minorgridcolor\":\"white\",\"startlinecolor\":\"#2a3f5f\"},\"baxis\":{\"endlinecolor\":\"#2a3f5f\",\"gridcolor\":\"white\",\"linecolor\":\"white\",\"minorgridcolor\":\"white\",\"startlinecolor\":\"#2a3f5f\"},\"type\":\"carpet\"}],\"table\":[{\"cells\":{\"fill\":{\"color\":\"#EBF0F8\"},\"line\":{\"color\":\"white\"}},\"header\":{\"fill\":{\"color\":\"#C8D4E3\"},\"line\":{\"color\":\"white\"}},\"type\":\"table\"}],\"barpolar\":[{\"marker\":{\"line\":{\"color\":\"#E5ECF6\",\"width\":0.5},\"pattern\":{\"fillmode\":\"overlay\",\"size\":10,\"solidity\":0.2}},\"type\":\"barpolar\"}],\"pie\":[{\"automargin\":true,\"type\":\"pie\"}]},\"layout\":{\"autotypenumbers\":\"strict\",\"colorway\":[\"#636efa\",\"#EF553B\",\"#00cc96\",\"#ab63fa\",\"#FFA15A\",\"#19d3f3\",\"#FF6692\",\"#B6E880\",\"#FF97FF\",\"#FECB52\"],\"font\":{\"color\":\"#2a3f5f\"},\"hovermode\":\"closest\",\"hoverlabel\":{\"align\":\"left\"},\"paper_bgcolor\":\"white\",\"plot_bgcolor\":\"#E5ECF6\",\"polar\":{\"bgcolor\":\"#E5ECF6\",\"angularaxis\":{\"gridcolor\":\"white\",\"linecolor\":\"white\",\"ticks\":\"\"},\"radialaxis\":{\"gridcolor\":\"white\",\"linecolor\":\"white\",\"ticks\":\"\"}},\"ternary\":{\"bgcolor\":\"#E5ECF6\",\"aaxis\":{\"gridcolor\":\"white\",\"linecolor\":\"white\",\"ticks\":\"\"},\"baxis\":{\"gridcolor\":\"white\",\"linecolor\":\"white\",\"ticks\":\"\"},\"caxis\":{\"gridcolor\":\"white\",\"linecolor\":\"white\",\"ticks\":\"\"}},\"coloraxis\":{\"colorbar\":{\"outlinewidth\":0,\"ticks\":\"\"}},\"colorscale\":{\"sequential\":[[0.0,\"#0d0887\"],[0.1111111111111111,\"#46039f\"],[0.2222222222222222,\"#7201a8\"],[0.3333333333333333,\"#9c179e\"],[0.4444444444444444,\"#bd3786\"],[0.5555555555555556,\"#d8576b\"],[0.6666666666666666,\"#ed7953\"],[0.7777777777777778,\"#fb9f3a\"],[0.8888888888888888,\"#fdca26\"],[1.0,\"#f0f921\"]],\"sequentialminus\":[[0.0,\"#0d0887\"],[0.1111111111111111,\"#46039f\"],[0.2222222222222222,\"#7201a8\"],[0.3333333333333333,\"#9c179e\"],[0.4444444444444444,\"#bd3786\"],[0.5555555555555556,\"#d8576b\"],[0.6666666666666666,\"#ed7953\"],[0.7777777777777778,\"#fb9f3a\"],[0.8888888888888888,\"#fdca26\"],[1.0,\"#f0f921\"]],\"diverging\":[[0,\"#8e0152\"],[0.1,\"#c51b7d\"],[0.2,\"#de77ae\"],[0.3,\"#f1b6da\"],[0.4,\"#fde0ef\"],[0.5,\"#f7f7f7\"],[0.6,\"#e6f5d0\"],[0.7,\"#b8e186\"],[0.8,\"#7fbc41\"],[0.9,\"#4d9221\"],[1,\"#276419\"]]},\"xaxis\":{\"gridcolor\":\"white\",\"linecolor\":\"white\",\"ticks\":\"\",\"title\":{\"standoff\":15},\"zerolinecolor\":\"white\",\"automargin\":true,\"zerolinewidth\":2},\"yaxis\":{\"gridcolor\":\"white\",\"linecolor\":\"white\",\"ticks\":\"\",\"title\":{\"standoff\":15},\"zerolinecolor\":\"white\",\"automargin\":true,\"zerolinewidth\":2},\"scene\":{\"xaxis\":{\"backgroundcolor\":\"#E5ECF6\",\"gridcolor\":\"white\",\"linecolor\":\"white\",\"showbackground\":true,\"ticks\":\"\",\"zerolinecolor\":\"white\",\"gridwidth\":2},\"yaxis\":{\"backgroundcolor\":\"#E5ECF6\",\"gridcolor\":\"white\",\"linecolor\":\"white\",\"showbackground\":true,\"ticks\":\"\",\"zerolinecolor\":\"white\",\"gridwidth\":2},\"zaxis\":{\"backgroundcolor\":\"#E5ECF6\",\"gridcolor\":\"white\",\"linecolor\":\"white\",\"showbackground\":true,\"ticks\":\"\",\"zerolinecolor\":\"white\",\"gridwidth\":2}},\"shapedefaults\":{\"line\":{\"color\":\"#2a3f5f\"}},\"annotationdefaults\":{\"arrowcolor\":\"#2a3f5f\",\"arrowhead\":0,\"arrowwidth\":1},\"geo\":{\"bgcolor\":\"white\",\"landcolor\":\"#E5ECF6\",\"subunitcolor\":\"white\",\"showland\":true,\"showlakes\":true,\"lakecolor\":\"white\"},\"title\":{\"x\":0.05},\"mapbox\":{\"style\":\"light\"}}},\"shapes\":[{\"line\":{\"color\":\"orange\",\"width\":5},\"type\":\"line\",\"x0\":0,\"x1\":1,\"xref\":\"x domain\",\"y0\":2.2,\"y1\":2.2,\"yref\":\"y\"},{\"line\":{\"color\":\"orange\",\"width\":3},\"type\":\"line\",\"x0\":0,\"x1\":1,\"xref\":\"x domain\",\"y0\":0.3,\"y1\":0.3,\"yref\":\"y\"}],\"yaxis\":{\"visible\":false,\"range\":[-1.2,2.2]},\"xaxis\":{\"visible\":false,\"range\":[-0.3,5.6]},\"title\":{\"text\":\"OziBook Finance App\",\"x\":0.5,\"y\":0.9,\"font\":{\"size\":28,\"color\":\"#F58600\"}},\"font\":{\"size\":15,\"color\":\"#F58600\"},\"margin\":{\"t\":90,\"l\":70,\"b\":0,\"r\":70},\"showlegend\":false,\"height\":300,\"width\":1300,\"plot_bgcolor\":\"#2F321E\",\"paper_bgcolor\":\"#2F321E\"},                        {\"responsive\": true}                    ).then(function(){\n",
       "                            \n",
       "var gd = document.getElementById('131db716-deae-4a89-92de-5d4be2233e8b');\n",
       "var x = new MutationObserver(function (mutations, observer) {{\n",
       "        var display = window.getComputedStyle(gd).display;\n",
       "        if (!display || display === 'none') {{\n",
       "            console.log([gd, 'removed!']);\n",
       "            Plotly.purge(gd);\n",
       "            observer.disconnect();\n",
       "        }}\n",
       "}});\n",
       "\n",
       "// Listen for the removal of the full notebook cells\n",
       "var notebookContainer = gd.closest('#notebook-container');\n",
       "if (notebookContainer) {{\n",
       "    x.observe(notebookContainer, {childList: true});\n",
       "}}\n",
       "\n",
       "// Listen for the clearing of the current output cell\n",
       "var outputEl = gd.closest('.output');\n",
       "if (outputEl) {{\n",
       "    x.observe(outputEl, {childList: true});\n",
       "}}\n",
       "\n",
       "                        })                };                });            </script>        </div>"
      ]
     },
     "metadata": {},
     "output_type": "display_data"
    }
   ],
   "source": [
    "department_num =len(df1.groupby('Position').size())\n",
    "employees_num = int(sum(df1['Number of employees']))\n",
    "positions_num = len(df1.groupby('Position').size())\n",
    "total_monthly_expense = int(sum(df1['salary/month']))\n",
    "total_yearly_expense = int(sum(df1['salary/year']))\n",
    "fig0=go.Figure()\n",
    "fig0.add_trace(go.Scatter(\n",
    "    x=[0.12,1,2,3.2,4.5,5.5],\n",
    "    y=[1.7, 1.7, 1.7, 1.7, 1.7, 1.7],\n",
    "    mode=\"text\",\n",
    "    text=[\"No. of Departments\",\"Number of employees\",\"Number of Positions\", \"Monthly expense\", \"Yearly expense\"],\n",
    "    textposition=\"bottom center\"\n",
    "))\n",
    "fig0.add_trace(go.Scatter(\n",
    "    x=[0,1.1,2,3.2,4.5,5.5],\n",
    "    y=[1.1, 1.1, 1.1, 1.1, 1.1, 1.1],\n",
    "    mode=\"text\", \n",
    "    text=[\"<span style='font-size:24px'><b>\"+ str(department_num) +\"</b></span>\", \n",
    "          \"<span style='font-size:24px'><b>\"+ str(employees_num) +\"</b></span>\",\n",
    "          #\"<span style='font-size:24px'><b>\"+ str(interns_num ) + \"</b></span>\",\n",
    "          \"<span style='font-size:24px'><b>\"+ str(positions_num ) + \"</b></span>\",\n",
    "          \"<span style='font-size:24px'><b>\"+ '₹'+ str(locale.currency(total_monthly_expense, grouping=True,symbol=False)[:-3]) + \"</b></span>\"+\"</b></span>\",\n",
    "          \"<span style='font-size:24px'><b>\"+'₹'+ str(locale.currency(total_yearly_expense, grouping=True,symbol=False)[:-3]) + \"</b></span>\"],\n",
    "         # \"<span style='font-size:24px'><b>17</b></span>\"],\n",
    "    textposition=\"bottom center\"\n",
    "))\n",
    "fig0.add_hline(y=2.2, line_width=5, line_color='orange')\n",
    "fig0.add_hline(y=0.3, line_width=3, line_color='orange')\n",
    "fig0.add_trace(go.Scatter(\n",
    "    x=[0],\n",
    "    y=[-0.2],\n",
    "    mode=\"text\",\n",
    "    #text=[\"<span style='font-size:18px'><b>The date of data is  from \" + first_date + \" to \" + last_date +\"</b></span>\"],\n",
    "    textposition=\"bottom center\"\n",
    "))\n",
    "\n",
    "\n",
    "fig0.update_yaxes(visible=False)\n",
    "fig0.update_xaxes(visible=False)\n",
    "fig0.update_layout(showlegend=False, height=300, width=1300, \n",
    "                  title='OziBook Finance App', title_x=0.5, title_y=0.9,\n",
    "                  xaxis_range=[-0.3,5.6], yaxis_range=[-1.2,2.2],\n",
    "                  plot_bgcolor='#2F321E', paper_bgcolor='#2F321E',\n",
    "                  font=dict(size=15, color='#F58600'),\n",
    "                  title_font=dict(size=28, color='#F58600'),\n",
    "                  margin=dict(t=90,l=70,b=0,r=70), \n",
    "    )"
   ]
  },
  {
   "cell_type": "code",
   "execution_count": 6,
   "metadata": {},
   "outputs": [],
   "source": [
    " \n",
    "app.layout = html.Div(\n",
    "    dbc.Container([\n",
    "    dbc.Row([\n",
    "       dbc.Col([\n",
    "            html.Hr(style={'height': '10px', 'color': '#F58600'})\n",
    "        ])\n",
    "    ]),\n",
    "    \n",
    "    \n",
    "    dbc.Row([\n",
    "        dbc.Col([\n",
    "            html.H1(\"Ozibook- Department wise salary\", \n",
    "                    style={'textAlign': 'center', 'font-family': 'Merriweather', 'font-weight': 'bold','color':'#F58600'})\n",
    "        ])\n",
    "    ]),\n",
    "    \n",
    "    dbc.Row([\n",
    "        dbc.Col([\n",
    "            html.Hr(style={'height': '10px', 'color': '#F58600'})\n",
    "        ])\n",
    "    ]),\n",
    "    \n",
    "     dbc.Row([\n",
    "         dbc.Col(\n",
    "        \n",
    "        dcc.Graph(figure=fig0),width=12)\n",
    "     ]),\n",
    "   \n",
    "        \n",
    "    dbc.Row([\n",
    "        dbc.Col([\n",
    "            html.H1('Salary Calculator',style={'color':'#F58600'}),\n",
    "            html.Br(),\n",
    "            html.Label(['Select Positions'], \n",
    "                       style={'font-weight': 'bold', \"text-align\": \"center\",'color':'#F58600'}),\n",
    "            dcc.Dropdown(id='calc_dropdown',\n",
    "                    options=[{'label':'Head Of Engineering','value':'Head Of Engineering - Experienced (in years and also in skillset) in Fullstack Development'},\n",
    "                             {'label':'Backend Developer','value':'Backend Developer'},\n",
    "                             {'label':'Frontend Developer','value':'Frontend Developer'},\n",
    "                             {'label':'QA Testers (1 QA for 4 developers)','value':'QA Testers (1 QA for 4 developers)'},\n",
    "                             {'label':'Fresher - Team leader','value':'Fresher - Team leader'},\n",
    "                             {'label':'Fresher(2 in each team)','value':'Fresher(2 in each team)'},\n",
    "                             {'label':'Developers Interns','value':'Developers Interns'},\n",
    "                             {'label':'Finance Manager','value':'Finance Manager'},\n",
    "                             {'label':'Junior Accountant','value':'Junior Accountant'},\n",
    "                             {'label':'Junior Finance Associate','value':'Junior Finance Associate'},\n",
    "                             {'label':'BA Manager' , 'value':'BA Manager'},\n",
    "                             {'label':'Fresher - Team leader(BA)','value':'Fresher - Team leader(BA)'},\n",
    "                             {'label':'BA Interns' , 'value':'BA Interns'},\n",
    "                             {'label':'Fresher - Team leader (RA)','value':'Fresher - Team leader (RA)'},\n",
    "                             {'label': 'RA Interns', 'value':'RA Interns'},\n",
    "                             {'label':'Fresher - Team Leader (DA)','value':'Fresher - Team Leader (DA)'},\n",
    "                             {'label': 'DA Interns', 'value':'DA Interns'},\n",
    "                             {'label':'Contingency team(BA)','value':'Contingency team(BA)'},\n",
    "                             {'label': 'UI/UX Manager', 'value': 'UI/UX Manager'},\n",
    "                             {'label': 'Fresher - Team leader(UI/UX)', 'value': 'Fresher - Team leader(UI/UX)'},\n",
    "                             {'label': 'UI/UX Interns', 'value':'UI/UX Interns' },\n",
    "                             {'label': 'Creative Manager', 'value':'Creative Manager' },\n",
    "                             {'label': 'Video editor', 'value': 'Video editor'},\n",
    "                             {'label': 'Video editor(Interns)', 'value': 'Video editor(Interns)'},\n",
    "                             {'label': 'Contingency team(Video Editing)\t', 'value': 'Contingency team(Video Editing)\t'},\n",
    "                             {'label': 'Content designer', 'value': 'Content designer'},\n",
    "                             {'label': 'Content designer(Intern)', 'value': 'Content designer(Intern)'},\n",
    "                             {'label': 'Contingency team(Content Designing)', 'value': 'Contingency team(Content Designing)'},\n",
    "                             {'label': 'Content writer', 'value': 'Content writer'},\n",
    "                             {'label': 'Content writer(Intern)', 'value': 'Content writer(Intern)'},\n",
    "                             {'label': 'Contingency team(Content writing)', 'value': 'Contingency team(Content writing)'},\n",
    "                             {'label': 'HR manager', 'value': 'HR manager'},\n",
    "                             {'label': 'Recruiter', 'value': 'Recruiter'}\n",
    "                    ],\n",
    "                    optionHeight=35,                    \n",
    "                    value='Head Of Engineering',                  \n",
    "                    disabled=False,                    \n",
    "                    multi=False,                       \n",
    "                    searchable=True,                    \n",
    "                    search_value='',                    \n",
    "                    placeholder='Please select...',     \n",
    "                    clearable=True,                     \n",
    "                    style={'width':\"60%\"}),\n",
    "     \n",
    "           html.Label(['Enter the number of Employees : '],style={'font-weight': 'bold', \"text-align\": \"left\"}), \n",
    "        dcc.Input(id='calc_input',type='number',placeholder='',min=0,debounce=True,\n",
    "                          style={'display':'inline-block', 'margin-left':'2px'}),\n",
    "    \n",
    "            html.Label(['The Salary Per Month Per Employee is: ']),\n",
    "            html.Div(id='sal_per_emp', children=[]),\n",
    "                 \n",
    "            html.Br(),\n",
    "            \n",
    "            html.Label(['Total Expenditure Per Month is: ']),\n",
    "            html.Div(id='sal_emp', children=[]),\n",
    "                 \n",
    "            html.Br(),\n",
    "         \n",
    "            html.Label(['The Salary Per Year Per Employee is: ']),\n",
    "            html.Div(id='sal_per_year', children=[]),\n",
    "            \n",
    "            html.Br(),\n",
    "            \n",
    "            html.Label(['Total Expenditure Per Year is: ']),\n",
    "            html.Div(id='sal_year',children=[]),  \n",
    "        ]),\n",
    "   \n",
    "        dbc.Col([\n",
    "        dcc.Graph(id='sun_chart')],style={'border-style':'ridge','width':6})\n",
    "    ]),\n",
    "        \n",
    "        \n",
    "     dbc.Row([\n",
    "        html.Div([\n",
    "        dcc.Graph(id='bar_chart')],style={'border-style':'ridge','width':'50%'}), \n",
    "        html.Div([\n",
    "        html.Label(['Select Department'], \n",
    "                       style={'font-weight': 'bold', \"text-align\": \"center\",'color':'#F58600'}),\n",
    "            dcc.Dropdown(id='dep_type',\n",
    "                    options=[\n",
    "                             {'label': 'Executives', 'value':'Exec'},\n",
    "                             {'label': 'Developers', 'value':'Dev'},\n",
    "                        {'label': 'BA', 'value':'BA'},\n",
    "                        {'label': 'Creatives', 'value':'Crea'},\n",
    "                        {'label': 'Finance', 'value':'Fin'},\n",
    "                        {'label': 'HR', 'value':'HR'},\n",
    "                        {'label': 'Sales', 'value':'Sls'},\n",
    "                        {'label': 'Operations', 'value':'Oper'},\n",
    "                        {'label': 'UI/UX', 'value':'UI'}],\n",
    "                    optionHeight=35,                    \n",
    "                                      \n",
    "                    disabled=False,                    \n",
    "                    multi=False,                       \n",
    "                    searchable=True,                    \n",
    "                    search_value='',                    \n",
    "                    placeholder='Please select...',     \n",
    "                    clearable=True,                     \n",
    "                    style={'width':\"50%\"}),\n",
    "            html.Label(['Select Exp type'], \n",
    "                       style={'font-weight': 'bold', \"text-align\": \"center\",'color':'#F58600'}),\n",
    "            dcc.Dropdown(id='exp_type',\n",
    "                    options=[\n",
    "                             {'label': i, 'value': i} for i in exp_list],\n",
    "                    optionHeight=35,                    \n",
    "                                      \n",
    "                    disabled=False,                    \n",
    "                    multi=False,                       \n",
    "                    searchable=True,                    \n",
    "                    search_value='',                    \n",
    "                    placeholder='Please select...',     \n",
    "                    clearable=True,                     \n",
    "                    style={'width':\"50%\"}),\n",
    "        dcc.Graph(id='treemap_graph')],style={'border-style':'ridge','width':'50%'})\n",
    "    ],\n",
    "        style={'display': 'flex','border-style': 'ridge'})\n",
    "   \n",
    "    ]),style={'background-color':'#F9F7F4'})\n",
    "\n",
    "\n",
    "\n",
    "\n"
   ]
  },
  {
   "cell_type": "code",
   "execution_count": 7,
   "metadata": {},
   "outputs": [],
   "source": [
    "\n",
    "@app.callback(\n",
    "    [Output('sal_per_emp','children'),\n",
    "    Output('sal_emp','children'),\n",
    "    Output('sal_per_year','children'),\n",
    "    Output('sal_year','children')],\n",
    "    \n",
    "    [Input('calc_input','value'),\n",
    "     Input('calc_dropdown','value')]\n",
    ")\n",
    "\n",
    "def calculator_output(no_of_emp,position):\n",
    "    no_of_emp=int(no_of_emp)\n",
    "    data = df1.copy()\n",
    "    data = data[data['Position']==position]\n",
    "    x1=int(data['salary/month/employee'])\n",
    "    x2=int(data['salary/year/employee']) \n",
    "    s_per_emp = round(x1, 2)\n",
    "    s_emp = round(x1*no_of_emp, 2)\n",
    "    s_per_year = round(x2, 2)\n",
    "    s_year = round(x2*no_of_emp, 2)\n",
    "    return '₹'+ locale.currency(s_per_emp, grouping=True,symbol=False)[:-3], '₹'+locale.currency(s_emp, grouping=True,symbol=False)[:-3],'₹'+locale.currency(s_per_year, grouping=True,symbol=False)[:-3], '₹'+locale.currency(s_year, grouping=True,symbol=False)[:-3]\n",
    "\n",
    "\n",
    "\n",
    "\n",
    "\n",
    "@app.callback(\n",
    "    [Output(component_id='sun_chart', component_property='figure'),\n",
    "     Output(component_id='bar_chart', component_property='figure')],\n",
    "    Input('exp_type','value')\n",
    "    \n",
    ")\n",
    "\n",
    "def Update_graph(exp):\n",
    "    sun_fig = px.sunburst(df_dep_sal, path= ['Department','Position','Num_of_employees'], values='Num_of_employees', height=700, width=700,\n",
    "                  title='Nuber of employees per department')\n",
    "    bar_chart = px.bar(\n",
    "    data_frame=df1,\n",
    "    x= \"salary/month/employee\",\n",
    "    y=df1['Position'].value_counts(),\n",
    "    color=dep_list,              \n",
    "    opacity=0.8,                  \n",
    "    orientation=\"v\",             \n",
    "    barmode='relative',        \n",
    "    \n",
    "    text='Number of employees',            \n",
    "    hover_name='Position',\n",
    "\n",
    "    labels={\"Salary/year\":\"Salary per year\", \"Salary/month\":\"Salary per month\"}\n",
    ")\n",
    "    return sun_fig, bar_chart\n",
    "\n",
    "@app.callback(\n",
    "    Output(component_id = 'treemap_graph', component_property='figure'),\n",
    "    [Input(component_id = 'dep_type', component_property = 'value'),\n",
    "    Input(component_id = 'exp_type', component_property = 'value')]              \n",
    ")\n",
    "\n",
    "def build_graph(dept_chosen,exp):\n",
    "    \n",
    "    if (dept_chosen == 'Dev'):\n",
    "        tree_fig = px.treemap(df_dev,path=['Position',exp],values=exp)\n",
    "    elif(dept_chosen == 'Exec'):\n",
    "        tree_fig = px.treemap(df_exec,path=['Position',exp],values=exp)\n",
    "    elif(dept_chosen == 'BA'):\n",
    "        tree_fig = px.treemap(df_ba,path=['Position',exp],values=exp)\n",
    "    elif(dept_chosen == 'Crea'):\n",
    "        tree_fig = px.treemap(df_crea,path=['Position',exp],values=exp)\n",
    "    elif(dept_chosen == 'Fin'):\n",
    "        tree_fig = px.treemap(df_fin,path=['Position',exp],values=exp)\n",
    "    elif(dept_chosen == 'HR'):\n",
    "        tree_fig = px.treemap(df_hr,path=['Position',exp],values=exp)\n",
    "    elif(dept_chosen == 'Oper'):\n",
    "        tree_fig = px.treemap(df_oper,path=['Position',exp],values=exp)\n",
    "    elif(dept_chosen == 'Sls'):\n",
    "        tree_fig = px.treemap(df_sls,path=['Position',exp],values=exp)\n",
    "    elif(dept_chosen == 'UI'):\n",
    "        tree_fig = px.treemap(df_ui,path=['Position',exp],values=exp)\n",
    "    else:\n",
    "        #if none of the options are right, choose developers\n",
    "        tree_fig = px.treemap(df_dev,path=['Position'],values=exp)\n",
    "    return tree_fig\n",
    "\n",
    "\n",
    "\n",
    "\n",
    "\n"
   ]
  },
  {
   "cell_type": "code",
   "execution_count": null,
   "metadata": {
    "scrolled": true
   },
   "outputs": [
    {
     "name": "stdout",
     "output_type": "stream",
     "text": [
      "Dash is running on http://127.0.0.1:8002/\n",
      "\n",
      " * Serving Flask app \"__main__\" (lazy loading)\n",
      " * Environment: production\n",
      "   WARNING: This is a development server. Do not use it in a production deployment.\n",
      "   Use a production WSGI server instead.\n",
      " * Debug mode: off\n"
     ]
    },
    {
     "name": "stderr",
     "output_type": "stream",
     "text": [
      " * Running on http://127.0.0.1:8002/ (Press CTRL+C to quit)\n",
      "127.0.0.1 - - [10/Dec/2022 23:08:30] \"\u001b[37mGET / HTTP/1.1\u001b[0m\" 200 -\n",
      "127.0.0.1 - - [10/Dec/2022 23:08:31] \"\u001b[37mGET /_dash-layout HTTP/1.1\u001b[0m\" 200 -\n",
      "127.0.0.1 - - [10/Dec/2022 23:08:31] \"\u001b[37mGET /_dash-dependencies HTTP/1.1\u001b[0m\" 200 -\n",
      "127.0.0.1 - - [10/Dec/2022 23:08:31] \"\u001b[37mGET /_dash-component-suites/dash/dcc/async-graph.js HTTP/1.1\u001b[0m\" 200 -\n",
      "127.0.0.1 - - [10/Dec/2022 23:08:31] \"\u001b[37mGET /_dash-component-suites/dash/dcc/async-dropdown.js HTTP/1.1\u001b[0m\" 200 -\n",
      "127.0.0.1 - - [10/Dec/2022 23:08:31] \"\u001b[37mGET /_dash-component-suites/dash/dcc/async-plotlyjs.js HTTP/1.1\u001b[0m\" 200 -\n"
     ]
    },
    {
     "name": "stdout",
     "output_type": "stream",
     "text": [
      "Exception on /_dash-update-component [POST]\n",
      "Traceback (most recent call last):\n",
      "  File \"C:\\Users\\utkar\\anaconda3\\lib\\site-packages\\flask\\app.py\", line 2447, in wsgi_app\n",
      "    response = self.full_dispatch_request()\n",
      "  File \"C:\\Users\\utkar\\anaconda3\\lib\\site-packages\\flask\\app.py\", line 1952, in full_dispatch_request\n",
      "    rv = self.handle_user_exception(e)\n",
      "  File \"C:\\Users\\utkar\\anaconda3\\lib\\site-packages\\flask\\app.py\", line 1821, in handle_user_exception\n",
      "    reraise(exc_type, exc_value, tb)\n",
      "  File \"C:\\Users\\utkar\\anaconda3\\lib\\site-packages\\flask\\_compat.py\", line 39, in reraise\n",
      "    raise value\n",
      "  File \"C:\\Users\\utkar\\anaconda3\\lib\\site-packages\\flask\\app.py\", line 1950, in full_dispatch_request\n",
      "    rv = self.dispatch_request()\n",
      "  File \"C:\\Users\\utkar\\anaconda3\\lib\\site-packages\\flask\\app.py\", line 1936, in dispatch_request\n",
      "    return self.view_functions[rule.endpoint](**req.view_args)\n",
      "  File \"C:\\Users\\utkar\\anaconda3\\lib\\site-packages\\dash\\dash.py\", line 1274, in dispatch\n",
      "    ctx.run(\n",
      "  File \"C:\\Users\\utkar\\anaconda3\\lib\\site-packages\\dash\\_callback.py\", line 440, in add_context\n",
      "    output_value = func(*func_args, **func_kwargs)  # %% callback invoked %%\n",
      "  File \"<ipython-input-7-eb37892cce35>\", line 12, in calculator_output\n",
      "    no_of_emp=int(no_of_emp)\n",
      "TypeError: int() argument must be a string, a bytes-like object or a number, not 'NoneType'\n"
     ]
    },
    {
     "name": "stderr",
     "output_type": "stream",
     "text": [
      "127.0.0.1 - - [10/Dec/2022 23:08:31] \"\u001b[35m\u001b[1mPOST /_dash-update-component HTTP/1.1\u001b[0m\" 500 -\n",
      "127.0.0.1 - - [10/Dec/2022 23:08:33] \"\u001b[37mPOST /_dash-update-component HTTP/1.1\u001b[0m\" 200 -\n",
      "127.0.0.1 - - [10/Dec/2022 23:08:33] \"\u001b[37mPOST /_dash-update-component HTTP/1.1\u001b[0m\" 200 -\n"
     ]
    }
   ],
   "source": [
    "if __name__ == '__main__':\n",
    "    app.run_server(port=8002)\n"
   ]
  },
  {
   "cell_type": "code",
   "execution_count": null,
   "metadata": {},
   "outputs": [],
   "source": []
  },
  {
   "cell_type": "code",
   "execution_count": null,
   "metadata": {},
   "outputs": [],
   "source": []
  },
  {
   "cell_type": "code",
   "execution_count": null,
   "metadata": {},
   "outputs": [],
   "source": []
  },
  {
   "cell_type": "code",
   "execution_count": null,
   "metadata": {},
   "outputs": [],
   "source": []
  },
  {
   "cell_type": "code",
   "execution_count": null,
   "metadata": {},
   "outputs": [],
   "source": []
  },
  {
   "cell_type": "code",
   "execution_count": null,
   "metadata": {},
   "outputs": [],
   "source": []
  },
  {
   "cell_type": "code",
   "execution_count": null,
   "metadata": {},
   "outputs": [],
   "source": []
  },
  {
   "cell_type": "code",
   "execution_count": null,
   "metadata": {},
   "outputs": [],
   "source": []
  },
  {
   "cell_type": "code",
   "execution_count": null,
   "metadata": {},
   "outputs": [],
   "source": []
  },
  {
   "cell_type": "code",
   "execution_count": null,
   "metadata": {},
   "outputs": [],
   "source": []
  },
  {
   "cell_type": "code",
   "execution_count": null,
   "metadata": {},
   "outputs": [],
   "source": []
  },
  {
   "cell_type": "code",
   "execution_count": null,
   "metadata": {},
   "outputs": [],
   "source": []
  },
  {
   "cell_type": "code",
   "execution_count": null,
   "metadata": {},
   "outputs": [],
   "source": []
  },
  {
   "cell_type": "code",
   "execution_count": null,
   "metadata": {},
   "outputs": [],
   "source": []
  },
  {
   "cell_type": "code",
   "execution_count": null,
   "metadata": {},
   "outputs": [],
   "source": []
  },
  {
   "cell_type": "code",
   "execution_count": null,
   "metadata": {},
   "outputs": [],
   "source": []
  },
  {
   "cell_type": "code",
   "execution_count": null,
   "metadata": {},
   "outputs": [],
   "source": []
  },
  {
   "cell_type": "code",
   "execution_count": null,
   "metadata": {},
   "outputs": [],
   "source": []
  },
  {
   "cell_type": "code",
   "execution_count": null,
   "metadata": {},
   "outputs": [],
   "source": []
  },
  {
   "cell_type": "code",
   "execution_count": null,
   "metadata": {},
   "outputs": [],
   "source": []
  }
 ],
 "metadata": {
  "kernelspec": {
   "display_name": "Python 3",
   "language": "python",
   "name": "python3"
  },
  "language_info": {
   "codemirror_mode": {
    "name": "ipython",
    "version": 3
   },
   "file_extension": ".py",
   "mimetype": "text/x-python",
   "name": "python",
   "nbconvert_exporter": "python",
   "pygments_lexer": "ipython3",
   "version": "3.8.5"
  }
 },
 "nbformat": 4,
 "nbformat_minor": 5
}
